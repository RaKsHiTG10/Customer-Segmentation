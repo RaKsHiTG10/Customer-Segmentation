{
  "nbformat": 4,
  "nbformat_minor": 0,
  "metadata": {
    "colab": {
      "provenance": []
    },
    "kernelspec": {
      "name": "python3",
      "display_name": "Python 3"
    },
    "language_info": {
      "name": "python"
    }
  },
  "cells": [
    {
      "cell_type": "code",
      "execution_count": null,
      "metadata": {
        "id": "Ov9xmOYHRVAR"
      },
      "outputs": [],
      "source": [
        "from sklearn.preprocessing import StandardScaler\n",
        "from sklearn.cluster import KMeans\n",
        "from sklearn.metrics import davies_bouldin_score\n",
        "import matplotlib.pyplot as plt\n",
        "import seaborn as sns\n",
        "import pandas as pd\n",
        "\n",
        "customer_data = pd.merge(customers_df, transactions_df.groupby('CustomerID')['TotalValue'].sum().reset_index(), on='CustomerID')\n",
        "\n",
        "customer_data_encoded = pd.get_dummies(customer_data, columns=['Region'], drop_first=True)\n",
        "\n",
        "scaler = StandardScaler()\n",
        "customer_data_scaled = scaler.fit_transform(customer_data_encoded.drop(['CustomerID', 'CustomerName', 'SignupDate'], axis=1))\n",
        "\n",
        "kmeans = KMeans(n_clusters=4, random_state=42)\n",
        "customer_data['Cluster'] = kmeans.fit_predict(customer_data_scaled)\n",
        "\n",
        "db_index = davies_bouldin_score(customer_data_scaled, customer_data['Cluster'])\n",
        "print(f\"Davies-Bouldin Index: {db_index:.3f}\")\n",
        "\n",
        "customer_data['SignupDate'] = pd.to_datetime(customer_data['SignupDate'])\n",
        "customer_data['DaysSinceSignup'] = (customer_data['SignupDate'] - customer_data['SignupDate'].min()).dt.days\n",
        "\n",
        "plt.figure(figsize=(12, 8))\n",
        "sns.scatterplot(\n",
        "    x='TotalValue',\n",
        "    y='DaysSinceSignup',\n",
        "    hue='Cluster',\n",
        "    data=customer_data,\n",
        "    palette='viridis',\n",
        "    s=100,\n",
        "    alpha=0.7\n",
        ")\n",
        "\n",
        "plt.title(f\"Customer Segments\\nDavies-Bouldin Index: {db_index:.3f}\", fontsize=16, fontweight='bold')\n",
        "plt.xlabel('Total Value of Transactions', fontsize=12)\n",
        "plt.ylabel('Days Since Signup', fontsize=12)\n",
        "plt.xticks(fontsize=10)\n",
        "plt.yticks(fontsize=10)\n",
        "plt.legend(title='Cluster', fontsize=10)\n",
        "plt.grid(alpha=0.3)\n",
        "\n",
        "plt.tight_layout()\n",
        "plt.show()"
      ]
    }
  ]
}