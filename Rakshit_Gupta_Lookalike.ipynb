{
  "nbformat": 4,
  "nbformat_minor": 0,
  "metadata": {
    "colab": {
      "provenance": []
    },
    "kernelspec": {
      "name": "python3",
      "display_name": "Python 3"
    },
    "language_info": {
      "name": "python"
    }
  },
  "cells": [
    {
      "cell_type": "code",
      "execution_count": null,
      "metadata": {
        "id": "LMtsKv_ZHOAE"
      },
      "outputs": [],
      "source": [
        "from sklearn.metrics.pairwise import cosine_similarity\n",
        "\n",
        "customer_transactions = pd.merge(transactions_df, customers_df, on='CustomerID')\n",
        "\n",
        "customer_profiles = customer_transactions.pivot_table(index='CustomerID', columns='ProductID', values='Quantity', aggfunc='sum', fill_value=0)\n",
        "\n",
        "similarity_matrix = pd.DataFrame(cosine_similarity(customer_profiles), index=customer_profiles.index, columns=customer_profiles.index)\n",
        "\n",
        "top_lookalikes = {}\n",
        "for customer_id in customers_df['CustomerID'][:20]:\n",
        "    similar_customers = similarity_matrix[customer_id].sort_values(ascending=False).index[1:4]\n",
        "    top_lookalikes[customer_id] = [(other_id, similarity_matrix.at[customer_id, other_id]) for other_id in similar_customers]\n",
        "\n",
        "lookalikes_df = pd.DataFrame.from_dict(top_lookalikes, orient='index', columns=['Lookalike_1', 'Lookalike_2', 'Lookalike_3'])\n",
        "lookalikes_df.to_csv('Lookalike.csv', index_label='CustomerID')\n",
        "\n",
        "print(\"Top lookalikes for first 20 customers saved to 'Lookalike.csv'\")\n"
      ]
    },
    {
      "cell_type": "code",
      "source": [
        "pd.read_csv('Lookalike.csv')"
      ],
      "metadata": {
        "id": "D4zpKC9IHzHf"
      },
      "execution_count": null,
      "outputs": []
    },
    {
      "cell_type": "code",
      "source": [
        "from google.colab import files\n",
        "\n",
        "# Download the file\n",
        "files.download('Lookalike.csv')\n"
      ],
      "metadata": {
        "id": "m95zhODSHuAm"
      },
      "execution_count": null,
      "outputs": []
    }
  ]
}